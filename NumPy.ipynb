{
  "nbformat": 4,
  "nbformat_minor": 0,
  "metadata": {
    "colab": {
      "provenance": [],
      "collapsed_sections": [
        "1nv88kuuKA_Y",
        "vXx8B0JtRFqV",
        "wISb_FtCKqxo",
        "-C_DjJBkN7xN",
        "sk2pwjKiOunh",
        "AfLmT1zBV2HN"
      ],
      "authorship_tag": "ABX9TyNgajzvTsgg4m4xKJsjAIHy",
      "include_colab_link": true
    },
    "kernelspec": {
      "name": "python3",
      "display_name": "Python 3"
    },
    "language_info": {
      "name": "python"
    }
  },
  "cells": [
    {
      "cell_type": "markdown",
      "metadata": {
        "id": "view-in-github",
        "colab_type": "text"
      },
      "source": [
        "<a href=\"https://colab.research.google.com/github/AbiXnash/Machine-Learning/blob/main/NumPy.ipynb\" target=\"_parent\"><img src=\"https://colab.research.google.com/assets/colab-badge.svg\" alt=\"Open In Colab\"/></a>"
      ]
    },
    {
      "cell_type": "markdown",
      "source": [
        "### **Numpy** ->` Faster Arithmetic Operations`\n",
        "---\n",
        "- Numpy is like the Swiss Army knife of numerical computing in Python.\n",
        "- It provides a powerful array object, essential for scientific computing, and a collection of functions to operate on these arrays.\n",
        "- This makes it efficient and convenient for tasks like linear algebra, statistical analysis, and other mathematical operations.\n",
        "- Plus, it's widely used in the data science and machine learning communities, so it's a handy tool to have in your programming arsenal.\n",
        "---\n",
        "**For More Details**: [NumPy.org](https://numpy.org/)\n",
        "\n",
        "\n",
        "\n",
        "\n"
      ],
      "metadata": {
        "id": "X_jgS_pLHrnu"
      }
    },
    {
      "cell_type": "markdown",
      "source": [
        "### **Import**"
      ],
      "metadata": {
        "id": "1nv88kuuKA_Y"
      }
    },
    {
      "cell_type": "code",
      "source": [
        "import numpy as np"
      ],
      "metadata": {
        "id": "V4kJ9HE9JLyg"
      },
      "execution_count": null,
      "outputs": []
    },
    {
      "cell_type": "markdown",
      "source": [
        "---"
      ],
      "metadata": {
        "id": "LOiBPOHNcO1k"
      }
    },
    {
      "cell_type": "markdown",
      "source": [
        "### **Declaration**"
      ],
      "metadata": {
        "id": "vXx8B0JtRFqV"
      }
    },
    {
      "cell_type": "markdown",
      "source": [
        "- Elements should be passed as **list**\n",
        "- For 2D array, elements are passed as **list of tuples**"
      ],
      "metadata": {
        "id": "tcT_7rAeRTfN"
      }
    },
    {
      "cell_type": "code",
      "source": [
        "np_array = np.array([])"
      ],
      "metadata": {
        "id": "ThLijMl3RJXu"
      },
      "execution_count": null,
      "outputs": []
    },
    {
      "cell_type": "markdown",
      "source": [
        "---"
      ],
      "metadata": {
        "id": "ikY0OPyrcbHW"
      }
    },
    {
      "cell_type": "markdown",
      "source": [
        "### **List vs. NumPy**"
      ],
      "metadata": {
        "id": "wISb_FtCKqxo"
      }
    },
    {
      "cell_type": "code",
      "source": [
        "# Module to calculate time\n",
        "from time import process_time"
      ],
      "metadata": {
        "id": "JeEmJZS_KvOw"
      },
      "execution_count": null,
      "outputs": []
    },
    {
      "cell_type": "markdown",
      "source": [
        "---"
      ],
      "metadata": {
        "id": "chkcC8nGcoAt"
      }
    },
    {
      "cell_type": "markdown",
      "source": [
        "#### List"
      ],
      "metadata": {
        "id": "fUnWjo3CK4uf"
      }
    },
    {
      "cell_type": "code",
      "source": [
        "''' Python's List Test '''\n",
        "\n",
        "# Creating list\n",
        "list = [i for i in range(10000000)]\n",
        "\n",
        "start_time = process_time() # Start time\n",
        "list = [i + 5 for i in list] # Adding 5 to each element\n",
        "end_time = process_time() # End time\n",
        "\n",
        "print(end_time - start_time) # Calculating time difference"
      ],
      "metadata": {
        "colab": {
          "base_uri": "https://localhost:8080/"
        },
        "id": "2eL2Zh4jK3JS",
        "outputId": "35ec14dc-682b-4486-f2f0-532e1f3f6ea2"
      },
      "execution_count": null,
      "outputs": [
        {
          "output_type": "stream",
          "name": "stdout",
          "text": [
            "0.8129885450000032\n"
          ]
        }
      ]
    },
    {
      "cell_type": "markdown",
      "source": [
        "---"
      ],
      "metadata": {
        "id": "37h9IjaXcjZn"
      }
    },
    {
      "cell_type": "markdown",
      "source": [
        "#### NumPy array"
      ],
      "metadata": {
        "id": "xS3KV3UAMVj5"
      }
    },
    {
      "cell_type": "code",
      "source": [
        "''' Numpy's Array Test '''\n",
        "\n",
        "# Creating Numpy Array\n",
        "array = np.array([i for i in range(10000000)])\n",
        "\n",
        "start_time = process_time() # Start time\n",
        "array += 5 # Adding 5 to each element\n",
        "end_time = process_time() # End time\n",
        "\n",
        "print(end_time - start_time) # Calculating time difference"
      ],
      "metadata": {
        "colab": {
          "base_uri": "https://localhost:8080/"
        },
        "id": "Cso6kmpkLkmR",
        "outputId": "7a52030a-85e8-49d6-851f-dc54f9fdde12"
      },
      "execution_count": null,
      "outputs": [
        {
          "output_type": "stream",
          "name": "stdout",
          "text": [
            "0.010682343000002703\n"
          ]
        }
      ]
    },
    {
      "cell_type": "markdown",
      "source": [
        "---"
      ],
      "metadata": {
        "id": "GELQL7GscRE7"
      }
    },
    {
      "cell_type": "markdown",
      "source": [
        "*It's clear that Numpy is faster*"
      ],
      "metadata": {
        "id": "jZOlz8dqNh5P"
      }
    },
    {
      "cell_type": "markdown",
      "source": [
        "### **Numpy Data Type**"
      ],
      "metadata": {
        "id": "-C_DjJBkN7xN"
      }
    },
    {
      "cell_type": "markdown",
      "source": [
        "*NumPy arrays have a fixed data type for their elements*"
      ],
      "metadata": {
        "id": "dbWifXSOQiTV"
      }
    },
    {
      "cell_type": "code",
      "source": [
        "''' Numpy Data Type '''\n",
        "print(type(array))"
      ],
      "metadata": {
        "colab": {
          "base_uri": "https://localhost:8080/"
        },
        "id": "4uthLS-tODyU",
        "outputId": "055780e6-852e-42c5-fb9c-e293c58317ae"
      },
      "execution_count": null,
      "outputs": [
        {
          "output_type": "stream",
          "name": "stdout",
          "text": [
            "<class 'numpy.ndarray'>\n"
          ]
        }
      ]
    },
    {
      "cell_type": "markdown",
      "source": [
        "---"
      ],
      "metadata": {
        "id": "J03SIwCTcs8l"
      }
    },
    {
      "cell_type": "markdown",
      "source": [
        "### **Dimensions of Array**"
      ],
      "metadata": {
        "id": "sk2pwjKiOunh"
      }
    },
    {
      "cell_type": "code",
      "source": [
        "''' Intialization one dimensional array '''\n",
        "array_1d = np.array([1, 2, 3, 4, 5]) # Parameter -> list\n",
        "print(array_1d)"
      ],
      "metadata": {
        "colab": {
          "base_uri": "https://localhost:8080/"
        },
        "id": "pndtwpLFOW7x",
        "outputId": "51c70b08-233d-4fa7-b094-5ca2c08eb033"
      },
      "execution_count": null,
      "outputs": [
        {
          "output_type": "stream",
          "name": "stdout",
          "text": [
            "[1 2 3 4 5]\n"
          ]
        }
      ]
    },
    {
      "cell_type": "code",
      "source": [
        "''' Intialization two dimensional array '''\n",
        "array_2d = np.array([(1, 2, 3, 4, 5), (6, 7, 8, 9, 10)]) # Parameter -> list of tuples\n",
        "print(array_2d)"
      ],
      "metadata": {
        "colab": {
          "base_uri": "https://localhost:8080/"
        },
        "id": "diu-VRGjO0z7",
        "outputId": "56f215b9-711b-4f9c-e98d-c337d59f18a8"
      },
      "execution_count": null,
      "outputs": [
        {
          "output_type": "stream",
          "name": "stdout",
          "text": [
            "[[ 1  2  3  4  5]\n",
            " [ 6  7  8  9 10]]\n"
          ]
        }
      ]
    },
    {
      "cell_type": "markdown",
      "source": [
        "---"
      ],
      "metadata": {
        "id": "H0u1CqOgcwWc"
      }
    },
    {
      "cell_type": "markdown",
      "source": [
        "#### **Shape Attribute** -> `shape`"
      ],
      "metadata": {
        "id": "4zUsS8nCQJdu"
      }
    },
    {
      "cell_type": "markdown",
      "source": [
        "*returns `(rows, columns)`*"
      ],
      "metadata": {
        "id": "ocnm3lMbSRU3"
      }
    },
    {
      "cell_type": "code",
      "source": [
        "array_1d.shape # in 1D array, all elements are *rows*"
      ],
      "metadata": {
        "colab": {
          "base_uri": "https://localhost:8080/"
        },
        "id": "jTHSOlXDPmpq",
        "outputId": "4c515abb-054f-4519-fa17-8f62ca806101"
      },
      "execution_count": null,
      "outputs": [
        {
          "output_type": "execute_result",
          "data": {
            "text/plain": [
              "(5,)"
            ]
          },
          "metadata": {},
          "execution_count": 31
        }
      ]
    },
    {
      "cell_type": "code",
      "source": [
        "array_2d.shape # in 2D array, each tuples are *rows*"
      ],
      "metadata": {
        "colab": {
          "base_uri": "https://localhost:8080/"
        },
        "id": "OTxvewxpR8D5",
        "outputId": "d0e9d159-b6f9-43d5-e373-bc5451fdcb31"
      },
      "execution_count": null,
      "outputs": [
        {
          "output_type": "execute_result",
          "data": {
            "text/plain": [
              "(2, 5)"
            ]
          },
          "metadata": {},
          "execution_count": 32
        }
      ]
    },
    {
      "cell_type": "markdown",
      "source": [
        "---"
      ],
      "metadata": {
        "id": "BRfFqbZOczat"
      }
    },
    {
      "cell_type": "markdown",
      "source": [
        "### **Changing Data Type** -> `dtype`"
      ],
      "metadata": {
        "id": "IPxlZei_T1kn"
      }
    },
    {
      "cell_type": "markdown",
      "source": [
        "It changes the **data type of the element** not the array"
      ],
      "metadata": {
        "id": "x34nmsXTUZP2"
      }
    },
    {
      "cell_type": "code",
      "source": [
        "''' np.array(elements, dtype = {data type}) '''\n",
        "array = np.array([(1, 2, 3), (4, 5, 6)], dtype = float)\n",
        "print(array, type(array))"
      ],
      "metadata": {
        "colab": {
          "base_uri": "https://localhost:8080/"
        },
        "id": "dwcFhPU4UBdE",
        "outputId": "cd71b4c8-4f35-4e96-cfde-e94c1fcc5c72"
      },
      "execution_count": null,
      "outputs": [
        {
          "output_type": "stream",
          "name": "stdout",
          "text": [
            "[[1. 2. 3.]\n",
            " [4. 5. 6.]] <class 'numpy.ndarray'>\n"
          ]
        }
      ]
    },
    {
      "cell_type": "markdown",
      "source": [
        "---"
      ],
      "metadata": {
        "id": "3HX00Kr6c1t0"
      }
    },
    {
      "cell_type": "markdown",
      "source": [
        "### **Placeholders**"
      ],
      "metadata": {
        "id": "jaItUTkkUy-c"
      }
    },
    {
      "cell_type": "markdown",
      "source": [
        "`dtype` parameter in optional."
      ],
      "metadata": {
        "id": "gU_qQ3JmXKHd"
      }
    },
    {
      "cell_type": "markdown",
      "source": [
        "#### Array of Zeros"
      ],
      "metadata": {
        "id": "Njj4Q0__VyBe"
      }
    },
    {
      "cell_type": "code",
      "source": [
        "''' np.zeros((rows, columns), dtype = {data type}) '''\n",
        "array = np.zeros((4, 5), dtype = int) # pass as tuples of rows and columns\n",
        "print(array)"
      ],
      "metadata": {
        "colab": {
          "base_uri": "https://localhost:8080/"
        },
        "id": "Sb8yg_2tU4zm",
        "outputId": "c48fcd14-c1f0-44d2-9091-af86eaeae7cd"
      },
      "execution_count": null,
      "outputs": [
        {
          "output_type": "stream",
          "name": "stdout",
          "text": [
            "[[0 0 0 0 0]\n",
            " [0 0 0 0 0]\n",
            " [0 0 0 0 0]\n",
            " [0 0 0 0 0]]\n"
          ]
        }
      ]
    },
    {
      "cell_type": "markdown",
      "source": [
        "---"
      ],
      "metadata": {
        "id": "zPk8LUymc3cs"
      }
    },
    {
      "cell_type": "markdown",
      "source": [
        "#### Array of Ones"
      ],
      "metadata": {
        "id": "AfLmT1zBV2HN"
      }
    },
    {
      "cell_type": "code",
      "source": [
        "''' np.ones((rows, columns), dtype = {data type}) '''\n",
        "array = np.ones((4, 5), dtype = int) # pass as tuples of rows and columns\n",
        "print(array)"
      ],
      "metadata": {
        "colab": {
          "base_uri": "https://localhost:8080/"
        },
        "id": "zwxvFvn-Vgcw",
        "outputId": "daae7c09-132e-4515-be96-333eea701ab6"
      },
      "execution_count": null,
      "outputs": [
        {
          "output_type": "stream",
          "name": "stdout",
          "text": [
            "[[1 1 1 1 1]\n",
            " [1 1 1 1 1]\n",
            " [1 1 1 1 1]\n",
            " [1 1 1 1 1]]\n"
          ]
        }
      ]
    },
    {
      "cell_type": "markdown",
      "source": [
        "---"
      ],
      "metadata": {
        "id": "-7bk2DUXc4sT"
      }
    },
    {
      "cell_type": "markdown",
      "source": [
        "#### Array of any numbers"
      ],
      "metadata": {
        "id": "LXngk9L6WBvV"
      }
    },
    {
      "cell_type": "code",
      "source": [
        "''' np.ones((rows, columns), {number}) '''\n",
        "array = np.full((4, 5), 5, dtype = float) # pass the number along with tuples of rows and columns\n",
        "print(array)"
      ],
      "metadata": {
        "colab": {
          "base_uri": "https://localhost:8080/"
        },
        "id": "dk4ghqgRWD4f",
        "outputId": "706ff747-97ee-4420-abfa-5cf2b614cdf3"
      },
      "execution_count": null,
      "outputs": [
        {
          "output_type": "stream",
          "name": "stdout",
          "text": [
            "[[5. 5. 5. 5. 5.]\n",
            " [5. 5. 5. 5. 5.]\n",
            " [5. 5. 5. 5. 5.]\n",
            " [5. 5. 5. 5. 5.]]\n"
          ]
        }
      ]
    },
    {
      "cell_type": "markdown",
      "source": [
        "---"
      ],
      "metadata": {
        "id": "3I0ernG3c5vm"
      }
    },
    {
      "cell_type": "markdown",
      "source": [
        "#### Identity Matrix"
      ],
      "metadata": {
        "id": "l0t03eAIW8TN"
      }
    },
    {
      "cell_type": "code",
      "source": [
        "''' np.eye({number}, dtype = {data type}) '''\n",
        "array = np.eye(5, dtype = int) # number of rows and columns are same so pass it as single number\n",
        "print(array)"
      ],
      "metadata": {
        "colab": {
          "base_uri": "https://localhost:8080/"
        },
        "id": "yXVCELihXC6U",
        "outputId": "69734c0a-53d4-4ffd-fec8-14371b15e8e6"
      },
      "execution_count": null,
      "outputs": [
        {
          "output_type": "stream",
          "name": "stdout",
          "text": [
            "[[1 0 0 0 0]\n",
            " [0 1 0 0 0]\n",
            " [0 0 1 0 0]\n",
            " [0 0 0 1 0]\n",
            " [0 0 0 0 1]]\n"
          ]
        }
      ]
    },
    {
      "cell_type": "markdown",
      "source": [
        "---"
      ],
      "metadata": {
        "id": "UA9OAnm1c7I-"
      }
    },
    {
      "cell_type": "markdown",
      "source": [
        "#### Array of random numbers"
      ],
      "metadata": {
        "id": "8R-jwB9XXwGN"
      }
    },
    {
      "cell_type": "markdown",
      "source": [
        "In `random()`, random numbers are generated between **0.00000000** to **0.99999999**"
      ],
      "metadata": {
        "id": "YEiDIVuqX06E"
      }
    },
    {
      "cell_type": "code",
      "source": [
        "''' np.random.random (({rows}, {columns})) '''\n",
        "array = np.random.random((4, 5))\n",
        "print(array)"
      ],
      "metadata": {
        "colab": {
          "base_uri": "https://localhost:8080/"
        },
        "id": "ApmSBflEXG_3",
        "outputId": "4a01b3f8-7e95-4a4c-8abb-d827e5d760d9"
      },
      "execution_count": null,
      "outputs": [
        {
          "output_type": "stream",
          "name": "stdout",
          "text": [
            "[[0.86543855 0.53140504 0.3619396  0.25931785 0.36857773]\n",
            " [0.11986376 0.37401957 0.94830572 0.8158487  0.50811578]\n",
            " [0.95592875 0.9040678  0.06534931 0.03766765 0.056259  ]\n",
            " [0.56389432 0.99398396 0.37010883 0.10180956 0.65934371]]\n"
          ]
        }
      ]
    },
    {
      "cell_type": "markdown",
      "source": [
        "In `randint()`, random numbers are generated between the **given range**."
      ],
      "metadata": {
        "id": "jdZIDJDvZC1F"
      }
    },
    {
      "cell_type": "code",
      "source": [
        "''' np.random.random ({starting_number}, {ending_number} ({rows}, {columns})) '''\n",
        "array = np.random.randint(1, 100, (4, 5)) # ending_number in exclusive\n",
        "print(array)"
      ],
      "metadata": {
        "colab": {
          "base_uri": "https://localhost:8080/"
        },
        "id": "U6iq7jn3Yw4S",
        "outputId": "11a3fbfc-6cf9-4ae8-f2bc-0bd71b75e1d7"
      },
      "execution_count": null,
      "outputs": [
        {
          "output_type": "stream",
          "name": "stdout",
          "text": [
            "[[76 63 64 31 17]\n",
            " [28  7 21 15 46]\n",
            " [34 27 56 60 66]\n",
            " [86 71 76 81 58]]\n"
          ]
        }
      ]
    },
    {
      "cell_type": "markdown",
      "source": [
        "---"
      ],
      "metadata": {
        "id": "HxSzKWGpc90q"
      }
    },
    {
      "cell_type": "markdown",
      "source": [
        "#### Other Numpy Methods  "
      ],
      "metadata": {
        "id": "fVRfu0OBbW1L"
      }
    },
    {
      "cell_type": "markdown",
      "source": [
        "**`linspace()`** Method"
      ],
      "metadata": {
        "id": "8NjTYap0blXM"
      }
    },
    {
      "cell_type": "code",
      "source": [
        "''' np.linspace ({starting_number}, {ending_number}, {number_of_elements}, dtype = {data type}) '''\n",
        "array = np.linspace(1, 100, 10, dtype = int)\n",
        "print(array)"
      ],
      "metadata": {
        "colab": {
          "base_uri": "https://localhost:8080/"
        },
        "id": "5OAN0LC_ZYaK",
        "outputId": "a6ddd79a-01c6-4ed8-bdc1-773a470d5907"
      },
      "execution_count": null,
      "outputs": [
        {
          "output_type": "stream",
          "name": "stdout",
          "text": [
            "[  1  12  23  34  45  56  67  78  89 100]\n"
          ]
        }
      ]
    },
    {
      "cell_type": "markdown",
      "source": [
        "**`arange()`** Method"
      ],
      "metadata": {
        "id": "5pmoCSjyb1w7"
      }
    },
    {
      "cell_type": "code",
      "source": [
        "''' np.arange ({starting_number}, {ending_number}, {steps}, dtype = {data type}) '''\n",
        "array = np.arange(1, 100, 10, dtype = int)\n",
        "print(array)"
      ],
      "metadata": {
        "colab": {
          "base_uri": "https://localhost:8080/"
        },
        "id": "7ACTxaJEal7Y",
        "outputId": "d9497d3c-2479-4ed5-a897-1fc6734aa6a5"
      },
      "execution_count": null,
      "outputs": [
        {
          "output_type": "stream",
          "name": "stdout",
          "text": [
            "[ 1 11 21 31 41 51 61 71 81 91]\n"
          ]
        }
      ]
    },
    {
      "cell_type": "markdown",
      "source": [
        "---"
      ],
      "metadata": {
        "id": "X_YM3HpWdEP7"
      }
    },
    {
      "cell_type": "markdown",
      "source": [
        "### **List to Numpy Convertion**"
      ],
      "metadata": {
        "id": "jgkBnc0UcEJz"
      }
    },
    {
      "cell_type": "code",
      "source": [],
      "metadata": {
        "id": "KN65BOtYbLTP"
      },
      "execution_count": null,
      "outputs": []
    },
    {
      "cell_type": "markdown",
      "source": [
        "---"
      ],
      "metadata": {
        "id": "xWD6GkJDdJLS"
      }
    }
  ]
}